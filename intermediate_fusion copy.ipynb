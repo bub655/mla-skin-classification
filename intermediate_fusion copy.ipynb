{
 "cells": [
  {
   "cell_type": "code",
   "execution_count": 27,
   "metadata": {},
   "outputs": [
    {
     "name": "stdout",
     "output_type": "stream",
     "text": [
      "Requirement already satisfied: pydot in /Users/anavbo/anaconda3/lib/python3.11/site-packages (2.0.0)\n",
      "Requirement already satisfied: pyparsing>=3 in /Users/anavbo/anaconda3/lib/python3.11/site-packages (from pydot) (3.0.9)\n",
      "Note: you may need to restart the kernel to use updated packages.\n"
     ]
    },
    {
     "name": "stderr",
     "output_type": "stream",
     "text": [
      "UsageError: Line magic function `%brew` not found.\n"
     ]
    }
   ],
   "source": [
    "%pip install pydot\n",
    "%brew install graphviz\n"
   ]
  },
  {
   "cell_type": "code",
   "execution_count": 14,
   "metadata": {},
   "outputs": [],
   "source": [
    "from glob import glob\n",
    "import os\n",
    "import pandas as pd\n",
    "import numpy as np\n",
    "from PIL import Image\n",
    "from sklearn.model_selection import train_test_split\n",
    "import tensorflow as tf\n",
    "\n",
    "# CNN Building Tools below-these lines are causing problems in the code for some reason\n",
    "import keras\n",
    "from keras import layers, models\n",
    "from keras.models import Sequential\n",
    "from keras.preprocessing.image import ImageDataGenerator\n",
    "from keras.optimizers import Adam\n",
    "from keras.callbacks import ReduceLROnPlateau\n",
    "from keras.layers import Dense, Flatten, Conv2D, MaxPool2D, Conv1D, MaxPool1D, Dropout, BatchNormalization\n",
    "from keras import backend as K\n",
    "\n",
    "# from images.ipynb import load_images\n",
    "from keras.backend import clear_session\n",
    "import plotly.express as px\n",
    "import plotly.graph_objects as go"
   ]
  },
  {
   "cell_type": "code",
   "execution_count": 3,
   "metadata": {},
   "outputs": [
    {
     "data": {
      "text/html": [
       "<div>\n",
       "<style scoped>\n",
       "    .dataframe tbody tr th:only-of-type {\n",
       "        vertical-align: middle;\n",
       "    }\n",
       "\n",
       "    .dataframe tbody tr th {\n",
       "        vertical-align: top;\n",
       "    }\n",
       "\n",
       "    .dataframe thead th {\n",
       "        text-align: right;\n",
       "    }\n",
       "</style>\n",
       "<table border=\"1\" class=\"dataframe\">\n",
       "  <thead>\n",
       "    <tr style=\"text-align: right;\">\n",
       "      <th></th>\n",
       "      <th>image_id</th>\n",
       "      <th>dx</th>\n",
       "      <th>dx_type</th>\n",
       "      <th>lesion_id</th>\n",
       "      <th>sex</th>\n",
       "      <th>age</th>\n",
       "      <th>localization</th>\n",
       "    </tr>\n",
       "  </thead>\n",
       "  <tbody>\n",
       "    <tr>\n",
       "      <th>0</th>\n",
       "      <td>ISIC_0034320</td>\n",
       "      <td>nv</td>\n",
       "      <td>follow_up</td>\n",
       "      <td>HAM_0000550</td>\n",
       "      <td>male</td>\n",
       "      <td>45.0</td>\n",
       "      <td>trunk</td>\n",
       "    </tr>\n",
       "    <tr>\n",
       "      <th>1</th>\n",
       "      <td>ISIC_0034320</td>\n",
       "      <td>nv</td>\n",
       "      <td>follow_up</td>\n",
       "      <td>HAM_0003577</td>\n",
       "      <td>male</td>\n",
       "      <td>50.0</td>\n",
       "      <td>lower extremity</td>\n",
       "    </tr>\n",
       "    <tr>\n",
       "      <th>2</th>\n",
       "      <td>ISIC_0034320</td>\n",
       "      <td>nv</td>\n",
       "      <td>follow_up</td>\n",
       "      <td>HAM_0001477</td>\n",
       "      <td>female</td>\n",
       "      <td>55.0</td>\n",
       "      <td>trunk</td>\n",
       "    </tr>\n",
       "    <tr>\n",
       "      <th>3</th>\n",
       "      <td>ISIC_0034320</td>\n",
       "      <td>nv</td>\n",
       "      <td>follow_up</td>\n",
       "      <td>HAM_0000484</td>\n",
       "      <td>male</td>\n",
       "      <td>40.0</td>\n",
       "      <td>trunk</td>\n",
       "    </tr>\n",
       "    <tr>\n",
       "      <th>4</th>\n",
       "      <td>ISIC_0034320</td>\n",
       "      <td>mel</td>\n",
       "      <td>histo</td>\n",
       "      <td>HAM_0003350</td>\n",
       "      <td>male</td>\n",
       "      <td>60.0</td>\n",
       "      <td>chest</td>\n",
       "    </tr>\n",
       "    <tr>\n",
       "      <th>...</th>\n",
       "      <td>...</td>\n",
       "      <td>...</td>\n",
       "      <td>...</td>\n",
       "      <td>...</td>\n",
       "      <td>...</td>\n",
       "      <td>...</td>\n",
       "      <td>...</td>\n",
       "    </tr>\n",
       "    <tr>\n",
       "      <th>40944</th>\n",
       "      <td>ISIC_0034320</td>\n",
       "      <td>bkl</td>\n",
       "      <td>histo</td>\n",
       "      <td>HAM_0000344</td>\n",
       "      <td>male</td>\n",
       "      <td>55.0</td>\n",
       "      <td>trunk</td>\n",
       "    </tr>\n",
       "    <tr>\n",
       "      <th>40945</th>\n",
       "      <td>ISIC_0034320</td>\n",
       "      <td>bkl</td>\n",
       "      <td>histo</td>\n",
       "      <td>HAM_0000344</td>\n",
       "      <td>male</td>\n",
       "      <td>55.0</td>\n",
       "      <td>trunk</td>\n",
       "    </tr>\n",
       "    <tr>\n",
       "      <th>40946</th>\n",
       "      <td>ISIC_0034320</td>\n",
       "      <td>bkl</td>\n",
       "      <td>histo</td>\n",
       "      <td>HAM_0000344</td>\n",
       "      <td>male</td>\n",
       "      <td>55.0</td>\n",
       "      <td>trunk</td>\n",
       "    </tr>\n",
       "    <tr>\n",
       "      <th>40947</th>\n",
       "      <td>ISIC_0034320</td>\n",
       "      <td>nv</td>\n",
       "      <td>histo</td>\n",
       "      <td>HAM_0000747</td>\n",
       "      <td>male</td>\n",
       "      <td>30.0</td>\n",
       "      <td>trunk</td>\n",
       "    </tr>\n",
       "    <tr>\n",
       "      <th>40948</th>\n",
       "      <td>ISIC_0034320</td>\n",
       "      <td>nv</td>\n",
       "      <td>histo</td>\n",
       "      <td>HAM_0002244</td>\n",
       "      <td>female</td>\n",
       "      <td>25.0</td>\n",
       "      <td>chest</td>\n",
       "    </tr>\n",
       "  </tbody>\n",
       "</table>\n",
       "<p>40949 rows × 7 columns</p>\n",
       "</div>"
      ],
      "text/plain": [
       "           image_id   dx    dx_type    lesion_id     sex   age  \\\n",
       "0      ISIC_0034320   nv  follow_up  HAM_0000550    male  45.0   \n",
       "1      ISIC_0034320   nv  follow_up  HAM_0003577    male  50.0   \n",
       "2      ISIC_0034320   nv  follow_up  HAM_0001477  female  55.0   \n",
       "3      ISIC_0034320   nv  follow_up  HAM_0000484    male  40.0   \n",
       "4      ISIC_0034320  mel      histo  HAM_0003350    male  60.0   \n",
       "...             ...  ...        ...          ...     ...   ...   \n",
       "40944  ISIC_0034320  bkl      histo  HAM_0000344    male  55.0   \n",
       "40945  ISIC_0034320  bkl      histo  HAM_0000344    male  55.0   \n",
       "40946  ISIC_0034320  bkl      histo  HAM_0000344    male  55.0   \n",
       "40947  ISIC_0034320   nv      histo  HAM_0000747    male  30.0   \n",
       "40948  ISIC_0034320   nv      histo  HAM_0002244  female  25.0   \n",
       "\n",
       "          localization  \n",
       "0                trunk  \n",
       "1      lower extremity  \n",
       "2                trunk  \n",
       "3                trunk  \n",
       "4                chest  \n",
       "...                ...  \n",
       "40944            trunk  \n",
       "40945            trunk  \n",
       "40946            trunk  \n",
       "40947            trunk  \n",
       "40948            chest  \n",
       "\n",
       "[40949 rows x 7 columns]"
      ]
     },
     "execution_count": 3,
     "metadata": {},
     "output_type": "execute_result"
    }
   ],
   "source": [
    "df = []\n",
    "df = pd.read_csv(\"HAM10000_metadata_augmented.csv\")\n",
    "# df = df.sort_values(by=\"image_id\")\n",
    "lesion_type_dict = {\n",
    "    \"nv\": \"Melanocytic nevi\",\n",
    "    \"mel\": \"Melanoma\",\n",
    "    \"bkl\": \"Benign keratosis-like lesions\",\n",
    "    \"akiec\": \"Actinic keratoses\",\n",
    "    \"vasc\": \"Vascular lesions\",\n",
    "    \"df\": \"Dermatofibroma\",\n",
    "    \"bcc\": \"Basal Cell Carcinoma\",\n",
    "}\n",
    "df"
   ]
  },
  {
   "cell_type": "code",
   "execution_count": 4,
   "metadata": {},
   "outputs": [],
   "source": [
    "len(df)\n",
    "val_size = round(len(df) * 0.15)\n",
    "test_size = round(len(df) * 0.1)\n"
   ]
  },
  {
   "cell_type": "code",
   "execution_count": 5,
   "metadata": {},
   "outputs": [],
   "source": [
    "images = np.load(\"augment_images.npy\")\n",
    "image_x_train = images[test_size + val_size :].astype(\"float32\")\n",
    "image_x_val = images[test_size : test_size + val_size].astype(\"float32\")\n",
    "image_x_test = images[:test_size].astype(\"float32\")"
   ]
  },
  {
   "cell_type": "code",
   "execution_count": 6,
   "metadata": {},
   "outputs": [
    {
     "name": "stdout",
     "output_type": "stream",
     "text": [
      "[228 131 133]\n",
      "[228. 131. 133.]\n"
     ]
    }
   ],
   "source": [
    "img = Image.open(\"HAM10000_images/ISIC_0024306.jpg\")\n",
    "img = np.array(img.resize((100,100)))\n",
    "print(img[0][0])\n",
    "print(images[0][0][0])"
   ]
  },
  {
   "cell_type": "code",
   "execution_count": 7,
   "metadata": {},
   "outputs": [],
   "source": [
    "# Make Label\n",
    "target = df[[\"dx\"]]\n",
    "target = pd.get_dummies(target, columns=[\"dx\"])\n",
    "y_train = target[test_size+val_size:].astype(\"float32\")\n",
    "y_val = target[test_size : test_size + val_size].astype(\"float32\")\n",
    "y_test = target[:test_size].astype(\"float32\")"
   ]
  },
  {
   "cell_type": "code",
   "execution_count": 8,
   "metadata": {},
   "outputs": [],
   "source": [
    "features = df[[\"age\", \"sex\", \"localization\"]]\n",
    "features = pd.get_dummies(features)\n",
    "features\n",
    "features_x_train = features[test_size + val_size :]\n",
    "features_x_val = features[test_size : test_size + val_size]\n",
    "features_x_test = features[:test_size]"
   ]
  },
  {
   "cell_type": "code",
   "execution_count": 9,
   "metadata": {},
   "outputs": [],
   "source": [
    "# Start of CNN Building\n",
    "input_shape = (100, 100, 3)\n",
    "num_classes = 7"
   ]
  },
  {
   "cell_type": "code",
   "execution_count": 16,
   "metadata": {},
   "outputs": [
    {
     "name": "stdout",
     "output_type": "stream",
     "text": [
      "Model: \"sequential_4\"\n",
      "_________________________________________________________________\n",
      " Layer (type)                Output Shape              Param #   \n",
      "=================================================================\n",
      " conv2d_12 (Conv2D)          (None, 100, 100, 32)      896       \n",
      "                                                                 \n",
      " conv2d_13 (Conv2D)          (None, 100, 100, 32)      9248      \n",
      "                                                                 \n",
      " max_pooling2d_6 (MaxPoolin  (None, 50, 50, 32)        0         \n",
      " g2D)                                                            \n",
      "                                                                 \n",
      " dropout_8 (Dropout)         (None, 50, 50, 32)        0         \n",
      "                                                                 \n",
      " conv2d_14 (Conv2D)          (None, 50, 50, 64)        18496     \n",
      "                                                                 \n",
      " conv2d_15 (Conv2D)          (None, 50, 50, 64)        36928     \n",
      "                                                                 \n",
      " max_pooling2d_7 (MaxPoolin  (None, 25, 25, 64)        0         \n",
      " g2D)                                                            \n",
      "                                                                 \n",
      " dropout_9 (Dropout)         (None, 25, 25, 64)        0         \n",
      "                                                                 \n",
      " conv2d_16 (Conv2D)          (None, 25, 25, 64)        36928     \n",
      "                                                                 \n",
      " conv2d_17 (Conv2D)          (None, 25, 25, 32)        18464     \n",
      "                                                                 \n",
      " max_pooling2d_8 (MaxPoolin  (None, 12, 12, 32)        0         \n",
      " g2D)                                                            \n",
      "                                                                 \n",
      " dropout_10 (Dropout)        (None, 12, 12, 32)        0         \n",
      "                                                                 \n",
      " flatten_2 (Flatten)         (None, 4608)              0         \n",
      "                                                                 \n",
      " dropout_11 (Dropout)        (None, 4608)              0         \n",
      "                                                                 \n",
      " dense_6 (Dense)             (None, 256)               1179904   \n",
      "                                                                 \n",
      "=================================================================\n",
      "Total params: 1300864 (4.96 MB)\n",
      "Trainable params: 1300864 (4.96 MB)\n",
      "Non-trainable params: 0 (0.00 Byte)\n",
      "_________________________________________________________________\n"
     ]
    }
   ],
   "source": [
    "# Initialising the CNN\n",
    "model_cnn = Sequential(\n",
    "    [\n",
    "        layers.InputLayer(input_shape=input_shape),\n",
    "        Conv2D(32, kernel_size=(3, 3), activation=\"relu\", padding=\"same\"),\n",
    "        Conv2D(32, kernel_size=(3, 3), activation=\"relu\", padding=\"Same\"),\n",
    "        MaxPool2D(pool_size=(2, 2)),\n",
    "        layers.Dropout(0.25),\n",
    "        Conv2D(64, (3, 3), activation=\"relu\", padding=\"Same\"),\n",
    "        Conv2D(64, (3, 3), activation=\"relu\", padding=\"Same\"),\n",
    "        MaxPool2D(pool_size=(2, 2)),\n",
    "        layers.Dropout(0.25),\n",
    "        Conv2D(64, (3, 3), activation=\"relu\", padding=\"Same\"),\n",
    "        Conv2D(32, (3, 3), activation=\"relu\", padding=\"Same\"),\n",
    "        MaxPool2D(pool_size=(2, 2)),\n",
    "        layers.Dropout(0.25),\n",
    "        Flatten(),\n",
    "        layers.Dropout(0.25),\n",
    "        Dense(256, activation=\"relu\"),\n",
    "    ]\n",
    ")\n",
    "\n",
    "model_cnn.summary()"
   ]
  },
  {
   "cell_type": "code",
   "execution_count": 17,
   "metadata": {},
   "outputs": [],
   "source": [
    "# text = df[[\"age\", \"localization\", \"sex\"]]\n",
    "# text = pd.get_dummies(text, columns=[\"localization\", \"sex\"])\n",
    "# text_x_train = np.array(text[:6000])\n",
    "# text_x_test = np.array(text[6000:7600])\n",
    "# text_x_val = np.array(text[7600:])\n",
    "# text_y_train = np.array(target[:6000])\n",
    "# text_y_test = np.array(target[6000:7600])\n",
    "# text_y_val = np.array(target[7600:])\n",
    "# # print(text_x_train[:10])"
   ]
  },
  {
   "cell_type": "code",
   "execution_count": 18,
   "metadata": {},
   "outputs": [
    {
     "name": "stdout",
     "output_type": "stream",
     "text": [
      "Model: \"sequential_5\"\n",
      "_________________________________________________________________\n",
      " Layer (type)                Output Shape              Param #   \n",
      "=================================================================\n",
      " reshape_1 (Reshape)         (None, 19, 1)             0         \n",
      "                                                                 \n",
      " conv1d_2 (Conv1D)           (None, 17, 128)           512       \n",
      "                                                                 \n",
      " max_pooling1d (MaxPooling1  (None, 8, 128)            0         \n",
      " D)                                                              \n",
      "                                                                 \n",
      " flatten_3 (Flatten)         (None, 1024)              0         \n",
      "                                                                 \n",
      " dense_7 (Dense)             (None, 256)               262400    \n",
      "                                                                 \n",
      " dense_8 (Dense)             (None, 256)               65792     \n",
      "                                                                 \n",
      "=================================================================\n",
      "Total params: 328704 (1.25 MB)\n",
      "Trainable params: 328704 (1.25 MB)\n",
      "Non-trainable params: 0 (0.00 Byte)\n",
      "_________________________________________________________________\n"
     ]
    }
   ],
   "source": [
    "model_txt = Sequential([\n",
    "    layers.InputLayer(input_shape=(19,)),\n",
    "    layers.Reshape((19, 1)),\n",
    "    Conv1D(128, 3, activation=\"gelu\"),\n",
    "    MaxPool1D(2),\n",
    "    Flatten(),\n",
    "    Dense(256, activation=\"relu\"),\n",
    "    Dense(256)\n",
    "])\n",
    "model_txt.summary()"
   ]
  },
  {
   "cell_type": "code",
   "execution_count": 19,
   "metadata": {},
   "outputs": [],
   "source": [
    "\n",
    "# text_side = model_txt(text_x_train)"
   ]
  },
  {
   "cell_type": "code",
   "execution_count": 20,
   "metadata": {},
   "outputs": [],
   "source": [
    "# x_train = np.array([])\n",
    "# # for i in range (0, len(image_x_train)):\n",
    "# #     x_train[i] = text_train[i] + image_x_train[i]\n",
    "# #     x_train = np.array([np.array([text_x_train[i], image_x_train[i]])])\n",
    "\n",
    "# # x_train[0] = np.array([text_x_train[0], image_x_train[0]])\n",
    "\n",
    "# x_train = [[features_x_train[i], image_x_train[i]] for i in range(0, len(image_x_train))]\n",
    "# x_val = [[features_x_train[i], image_x_val[i]] for i in range(0, len(image_x_val))]\n",
    "# x_test = [[features_x_test[i], image_x_test[i]] for i in range(0, len(image_x_test))]"
   ]
  },
  {
   "cell_type": "code",
   "execution_count": 21,
   "metadata": {},
   "outputs": [],
   "source": [
    "# tmp = x_train[0][1]\n",
    "# print(len(x_train))\n",
    "# print(type(x_train[0][0]))\n",
    "# print(len(tmp))\n",
    "# print(tmp.shape)\n",
    "# print(type(tmp))\n",
    "# # print(tmp)"
   ]
  },
  {
   "cell_type": "code",
   "execution_count": 22,
   "metadata": {},
   "outputs": [
    {
     "name": "stdout",
     "output_type": "stream",
     "text": [
      "Model: \"model\"\n",
      "__________________________________________________________________________________________________\n",
      " Layer (type)                Output Shape                 Param #   Connected to                  \n",
      "==================================================================================================\n",
      " img (InputLayer)            [(None, 100, 100, 3)]        0         []                            \n",
      "                                                                                                  \n",
      " txt (InputLayer)            [(None, 19)]                 0         []                            \n",
      "                                                                                                  \n",
      " sequential_4 (Sequential)   (None, 256)                  1300864   ['img[0][0]']                 \n",
      "                                                                                                  \n",
      " sequential_5 (Sequential)   (None, 256)                  328704    ['txt[0][0]']                 \n",
      "                                                                                                  \n",
      " concatenate_1 (Concatenate  (None, 512)                  0         ['sequential_4[0][0]',        \n",
      " )                                                                   'sequential_5[0][0]']        \n",
      "                                                                                                  \n",
      " dense_9 (Dense)             (None, 256)                  131328    ['concatenate_1[0][0]']       \n",
      "                                                                                                  \n",
      " class (Dense)               (None, 7)                    1799      ['dense_9[0][0]']             \n",
      "                                                                                                  \n",
      "==================================================================================================\n",
      "Total params: 1762695 (6.72 MB)\n",
      "Trainable params: 1762695 (6.72 MB)\n",
      "Non-trainable params: 0 (0.00 Byte)\n",
      "__________________________________________________________________________________________________\n"
     ]
    }
   ],
   "source": [
    "img_input = layers.Input(shape=input_shape, dtype=tf.int32, name=\"img\")\n",
    "txt_input = layers.Input(shape=(19,), dtype=tf.int32, name=\"txt\")\n",
    "image_side = model_cnn(img_input)\n",
    "text_side = model_txt(txt_input)\n",
    "\n",
    "merged = layers.Concatenate()([image_side, text_side])\n",
    "merged = layers.Dense(256, activation=\"relu\")(merged)\n",
    "output = layers.Dense(7, activation=\"softmax\", name=\"class\")(merged)\n",
    "model = models.Model([img_input, txt_input], output)\n",
    "model.summary()"
   ]
  },
  {
   "cell_type": "code",
   "execution_count": 23,
   "metadata": {},
   "outputs": [],
   "source": [
    "# Define the optimizer\n",
    "# optimizer = Adam(lr=0.001, beta_1=0.9, beta_2=0.999, epsilon=None, amsgrad=False)\n",
    "# Compile the model\n",
    "model.compile(\n",
    "    optimizer=tf.keras.optimizers.legacy.Adam(learning_rate=0.00005),\n",
    "    loss=\"categorical_crossentropy\",\n",
    "    metrics=[\"accuracy\"],\n",
    ")\n",
    "# Set a learning rate annealer\n",
    "learning_rate_reduction = ReduceLROnPlateau(\n",
    "    monitor=\"val_accuracy\", patience=3, verbose=1, factor=0.5, min_lr=0.00001\n",
    ")"
   ]
  },
  {
   "cell_type": "code",
   "execution_count": 50,
   "metadata": {},
   "outputs": [
    {
     "name": "stdout",
     "output_type": "stream",
     "text": [
      "Epoch 1/50\n",
      "35/35 [==============================] - 191s 5s/step - loss: 0.9054 - accuracy: 0.6563 - val_loss: 1.0031 - val_accuracy: 0.6482\n",
      "Epoch 2/50\n",
      "35/35 [==============================] - 170s 5s/step - loss: 0.9047 - accuracy: 0.6615 - val_loss: 1.0141 - val_accuracy: 0.6430\n",
      "Epoch 3/50\n",
      "35/35 [==============================] - 164s 5s/step - loss: 0.9005 - accuracy: 0.6610 - val_loss: 1.0050 - val_accuracy: 0.6421\n",
      "Epoch 4/50\n",
      "35/35 [==============================] - 4594s 135s/step - loss: 0.8996 - accuracy: 0.6528 - val_loss: 0.9928 - val_accuracy: 0.6517\n",
      "Epoch 5/50\n",
      "35/35 [==============================] - 2284s 67s/step - loss: 0.9061 - accuracy: 0.6563 - val_loss: 0.9470 - val_accuracy: 0.6579\n",
      "Epoch 6/50\n",
      "35/35 [==============================] - 201s 6s/step - loss: 0.8709 - accuracy: 0.6650 - val_loss: 1.0058 - val_accuracy: 0.6319\n",
      "Epoch 7/50\n",
      "35/35 [==============================] - 175s 5s/step - loss: 0.8662 - accuracy: 0.6711 - val_loss: 0.9939 - val_accuracy: 0.6457\n",
      "Epoch 8/50\n",
      "35/35 [==============================] - 174s 5s/step - loss: 0.8463 - accuracy: 0.6778 - val_loss: 0.9390 - val_accuracy: 0.6667\n",
      "Epoch 9/50\n",
      "35/35 [==============================] - 155s 4s/step - loss: 0.8684 - accuracy: 0.6696 - val_loss: 0.9668 - val_accuracy: 0.6566\n",
      "Epoch 10/50\n",
      "35/35 [==============================] - 160s 5s/step - loss: 0.8520 - accuracy: 0.6758 - val_loss: 0.9645 - val_accuracy: 0.6574\n",
      "Epoch 11/50\n",
      "30/35 [========================>.....] - ETA: 21s - loss: 0.8450 - accuracy: 0.6793"
     ]
    }
   ],
   "source": [
    "import gc\n",
    "epochs = 50\n",
    "batch_size = 170\n",
    "\n",
    "\n",
    "class garbageCollectCallback(tf.keras.callbacks.Callback):\n",
    "    def on_epoch_end(self, epoch, logs=None):\n",
    "        gc.collect()\n",
    "\n",
    "\n",
    "earlyStopping = tf.keras.callbacks.EarlyStopping(\n",
    "    monitor=\"val_accuracy\",\n",
    "    min_delta=0,\n",
    "    patience=3,\n",
    "    verbose=2,\n",
    "    mode=\"max\",\n",
    "    baseline=None,\n",
    "    restore_best_weights=True,\n",
    "    start_from_epoch=0,\n",
    ")\n",
    "\n",
    "history = model.fit(\n",
    "    [image_x_train, features_x_train],\n",
    "    y_train,\n",
    "    batch_size=batch_size,\n",
    "    epochs=epochs,\n",
    "    verbose=1,\n",
    "    steps_per_epoch=6000 // batch_size,\n",
    "    callbacks=[garbageCollectCallback(), earlyStopping],\n",
    "    validation_data=([image_x_val, features_x_val], y_val),\n",
    ")"
   ]
  },
  {
   "cell_type": "code",
   "execution_count": null,
   "metadata": {},
   "outputs": [
    {
     "name": "stdout",
     "output_type": "stream",
     "text": [
      "128/128 - 24s - loss: 1.0847 - accuracy: 0.6154 - 24s/epoch - 184ms/step\n"
     ]
    },
    {
     "data": {
      "text/plain": [
       "[1.0846898555755615, 0.6153846383094788]"
      ]
     },
     "execution_count": 49,
     "metadata": {},
     "output_type": "execute_result"
    }
   ],
   "source": [
    "model.evaluate([image_x_test, features_x_test], y_test, verbose=2)"
   ]
  },
  {
   "cell_type": "code",
   "execution_count": 48,
   "metadata": {},
   "outputs": [
    {
     "name": "stdout",
     "output_type": "stream",
     "text": [
      "128/128 [==============================] - 29s 226ms/step\n"
     ]
    }
   ],
   "source": [
    "predictions = model.predict([image_x_test, features_x_test])\n",
    "class_prediction = [np.argmax(prediction) for prediction in predictions]\n",
    "class_y_test = [np.argmax(y) for y in y_test.to_numpy()]"
   ]
  },
  {
   "cell_type": "code",
   "execution_count": 45,
   "metadata": {},
   "outputs": [
    {
     "data": {
      "image/png": "[encoded data removed]",
      "text/plain": [
       "<Figure size 640x480 with 2 Axes>"
      ]
     },
     "metadata": {},
     "output_type": "display_data"
    }
   ],
   "source": [
    "from sklearn import metrics\n",
    "import matplotlib.pyplot as plt\n",
    "\n",
    "confusion_matrix = metrics.confusion_matrix(class_y_test, class_prediction)\n",
    "cm_display = metrics.ConfusionMatrixDisplay(\n",
    "    confusion_matrix=confusion_matrix\n",
    ")\n",
    "cm_display.plot()\n",
    "plt.show()"
   ]
  },
  {
   "cell_type": "code",
   "execution_count": null,
   "metadata": {},
   "outputs": [],
   "source": []
  }
 ],
 "metadata": {
  "kernelspec": {
   "display_name": "base",
   "language": "python",
   "name": "python3"
  },
  "language_info": {
   "codemirror_mode": {
    "name": "ipython",
    "version": 3
   },
   "file_extension": ".py",
   "mimetype": "text/x-python",
   "name": "python",
   "nbconvert_exporter": "python",
   "pygments_lexer": "ipython3",
   "version": "3.11.5"
  }
 },
 "nbformat": 4,
 "nbformat_minor": 2
}

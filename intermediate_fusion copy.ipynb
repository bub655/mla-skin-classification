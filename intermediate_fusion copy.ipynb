{
 "cells": [
  {
   "cell_type": "code",
   "execution_count": 27,
   "metadata": {},
   "outputs": [
    {
     "name": "stdout",
     "output_type": "stream",
     "text": [
      "Requirement already satisfied: pydot in /Users/anavbo/anaconda3/lib/python3.11/site-packages (2.0.0)\n",
      "Requirement already satisfied: pyparsing>=3 in /Users/anavbo/anaconda3/lib/python3.11/site-packages (from pydot) (3.0.9)\n",
      "Note: you may need to restart the kernel to use updated packages.\n"
     ]
    },
    {
     "name": "stderr",
     "output_type": "stream",
     "text": [
      "UsageError: Line magic function `%brew` not found.\n"
     ]
    }
   ],
   "source": [
    "%pip install pydot\n",
    "%brew install graphviz\n"
   ]
  },
  {
   "cell_type": "code",
   "execution_count": 32,
   "metadata": {},
   "outputs": [],
   "source": [
    "from glob import glob\n",
    "import os\n",
    "import pandas as pd\n",
    "import numpy as np\n",
    "from PIL import Image\n",
    "from sklearn.model_selection import train_test_split\n",
    "import tensorflow as tf\n",
    "\n",
    "# CNN Building Tools below-these lines are causing problems in the code for some reason\n",
    "import keras\n",
    "from keras import layers, models\n",
    "from keras.models import Sequential\n",
    "from keras.preprocessing.image import ImageDataGenerator\n",
    "from keras.optimizers import Adam\n",
    "from keras.callbacks import ReduceLROnPlateau\n",
    "from keras.layers import Dense, Flatten, Conv2D, MaxPool2D\n",
    "from keras import backend as K\n",
    "\n",
    "# from images.ipynb import load_images\n",
    "from keras.backend import clear_session\n",
    "import plotly.express as px\n",
    "import plotly.graph_objects as go"
   ]
  },
  {
   "cell_type": "code",
   "execution_count": 33,
   "metadata": {},
   "outputs": [
    {
     "data": {
      "text/html": [
       "<div>\n",
       "<style scoped>\n",
       "    .dataframe tbody tr th:only-of-type {\n",
       "        vertical-align: middle;\n",
       "    }\n",
       "\n",
       "    .dataframe tbody tr th {\n",
       "        vertical-align: top;\n",
       "    }\n",
       "\n",
       "    .dataframe thead th {\n",
       "        text-align: right;\n",
       "    }\n",
       "</style>\n",
       "<table border=\"1\" class=\"dataframe\">\n",
       "  <thead>\n",
       "    <tr style=\"text-align: right;\">\n",
       "      <th></th>\n",
       "      <th>image_id</th>\n",
       "      <th>dx</th>\n",
       "      <th>dx_type</th>\n",
       "      <th>lesion_id</th>\n",
       "      <th>sex</th>\n",
       "      <th>age</th>\n",
       "      <th>localization</th>\n",
       "    </tr>\n",
       "  </thead>\n",
       "  <tbody>\n",
       "    <tr>\n",
       "      <th>0</th>\n",
       "      <td>ISIC_0034320</td>\n",
       "      <td>nv</td>\n",
       "      <td>follow_up</td>\n",
       "      <td>HAM_0000550</td>\n",
       "      <td>male</td>\n",
       "      <td>45.0</td>\n",
       "      <td>trunk</td>\n",
       "    </tr>\n",
       "    <tr>\n",
       "      <th>1</th>\n",
       "      <td>ISIC_0034320</td>\n",
       "      <td>nv</td>\n",
       "      <td>follow_up</td>\n",
       "      <td>HAM_0003577</td>\n",
       "      <td>male</td>\n",
       "      <td>50.0</td>\n",
       "      <td>lower extremity</td>\n",
       "    </tr>\n",
       "    <tr>\n",
       "      <th>2</th>\n",
       "      <td>ISIC_0034320</td>\n",
       "      <td>nv</td>\n",
       "      <td>follow_up</td>\n",
       "      <td>HAM_0001477</td>\n",
       "      <td>female</td>\n",
       "      <td>55.0</td>\n",
       "      <td>trunk</td>\n",
       "    </tr>\n",
       "    <tr>\n",
       "      <th>3</th>\n",
       "      <td>ISIC_0034320</td>\n",
       "      <td>nv</td>\n",
       "      <td>follow_up</td>\n",
       "      <td>HAM_0000484</td>\n",
       "      <td>male</td>\n",
       "      <td>40.0</td>\n",
       "      <td>trunk</td>\n",
       "    </tr>\n",
       "    <tr>\n",
       "      <th>4</th>\n",
       "      <td>ISIC_0034320</td>\n",
       "      <td>mel</td>\n",
       "      <td>histo</td>\n",
       "      <td>HAM_0003350</td>\n",
       "      <td>male</td>\n",
       "      <td>60.0</td>\n",
       "      <td>chest</td>\n",
       "    </tr>\n",
       "    <tr>\n",
       "      <th>...</th>\n",
       "      <td>...</td>\n",
       "      <td>...</td>\n",
       "      <td>...</td>\n",
       "      <td>...</td>\n",
       "      <td>...</td>\n",
       "      <td>...</td>\n",
       "      <td>...</td>\n",
       "    </tr>\n",
       "    <tr>\n",
       "      <th>40944</th>\n",
       "      <td>ISIC_0034320</td>\n",
       "      <td>bkl</td>\n",
       "      <td>histo</td>\n",
       "      <td>HAM_0000344</td>\n",
       "      <td>male</td>\n",
       "      <td>55.0</td>\n",
       "      <td>trunk</td>\n",
       "    </tr>\n",
       "    <tr>\n",
       "      <th>40945</th>\n",
       "      <td>ISIC_0034320</td>\n",
       "      <td>bkl</td>\n",
       "      <td>histo</td>\n",
       "      <td>HAM_0000344</td>\n",
       "      <td>male</td>\n",
       "      <td>55.0</td>\n",
       "      <td>trunk</td>\n",
       "    </tr>\n",
       "    <tr>\n",
       "      <th>40946</th>\n",
       "      <td>ISIC_0034320</td>\n",
       "      <td>bkl</td>\n",
       "      <td>histo</td>\n",
       "      <td>HAM_0000344</td>\n",
       "      <td>male</td>\n",
       "      <td>55.0</td>\n",
       "      <td>trunk</td>\n",
       "    </tr>\n",
       "    <tr>\n",
       "      <th>40947</th>\n",
       "      <td>ISIC_0034320</td>\n",
       "      <td>nv</td>\n",
       "      <td>histo</td>\n",
       "      <td>HAM_0000747</td>\n",
       "      <td>male</td>\n",
       "      <td>30.0</td>\n",
       "      <td>trunk</td>\n",
       "    </tr>\n",
       "    <tr>\n",
       "      <th>40948</th>\n",
       "      <td>ISIC_0034320</td>\n",
       "      <td>nv</td>\n",
       "      <td>histo</td>\n",
       "      <td>HAM_0002244</td>\n",
       "      <td>female</td>\n",
       "      <td>25.0</td>\n",
       "      <td>chest</td>\n",
       "    </tr>\n",
       "  </tbody>\n",
       "</table>\n",
       "<p>40949 rows × 7 columns</p>\n",
       "</div>"
      ],
      "text/plain": [
       "           image_id   dx    dx_type    lesion_id     sex   age  \\\n",
       "0      ISIC_0034320   nv  follow_up  HAM_0000550    male  45.0   \n",
       "1      ISIC_0034320   nv  follow_up  HAM_0003577    male  50.0   \n",
       "2      ISIC_0034320   nv  follow_up  HAM_0001477  female  55.0   \n",
       "3      ISIC_0034320   nv  follow_up  HAM_0000484    male  40.0   \n",
       "4      ISIC_0034320  mel      histo  HAM_0003350    male  60.0   \n",
       "...             ...  ...        ...          ...     ...   ...   \n",
       "40944  ISIC_0034320  bkl      histo  HAM_0000344    male  55.0   \n",
       "40945  ISIC_0034320  bkl      histo  HAM_0000344    male  55.0   \n",
       "40946  ISIC_0034320  bkl      histo  HAM_0000344    male  55.0   \n",
       "40947  ISIC_0034320   nv      histo  HAM_0000747    male  30.0   \n",
       "40948  ISIC_0034320   nv      histo  HAM_0002244  female  25.0   \n",
       "\n",
       "          localization  \n",
       "0                trunk  \n",
       "1      lower extremity  \n",
       "2                trunk  \n",
       "3                trunk  \n",
       "4                chest  \n",
       "...                ...  \n",
       "40944            trunk  \n",
       "40945            trunk  \n",
       "40946            trunk  \n",
       "40947            trunk  \n",
       "40948            chest  \n",
       "\n",
       "[40949 rows x 7 columns]"
      ]
     },
     "execution_count": 33,
     "metadata": {},
     "output_type": "execute_result"
    }
   ],
   "source": [
    "df = []\n",
    "df = pd.read_csv(\"HAM10000_metadata_augmented.csv\")\n",
    "# df = df.sort_values(by=\"image_id\")\n",
    "lesion_type_dict = {\n",
    "    \"nv\": \"Melanocytic nevi\",\n",
    "    \"mel\": \"Melanoma\",\n",
    "    \"bkl\": \"Benign keratosis-like lesions\",\n",
    "    \"akiec\": \"Actinic keratoses\",\n",
    "    \"vasc\": \"Vascular lesions\",\n",
    "    \"df\": \"Dermatofibroma\",\n",
    "    \"bcc\": \"Basal Cell Carcinoma\",\n",
    "}\n",
    "df"
   ]
  },
  {
   "cell_type": "code",
   "execution_count": 34,
   "metadata": {},
   "outputs": [],
   "source": [
    "len(df)\n",
    "val_size = round(len(df) * 0.15)\n",
    "test_size = round(len(df) * 0.1)"
   ]
  },
  {
   "cell_type": "code",
   "execution_count": 51,
   "metadata": {},
   "outputs": [],
   "source": [
    "images = np.load(\"augment_images.npy\")\n",
    "image_x_train = images[test_size + val_size :].astype(\"float32\")\n",
    "image_x_val = images[test_size : test_size + val_size].astype(\"float32\")\n",
    "image_x_test = images[:test_size].astype(\"float32\")"
   ]
  },
  {
   "cell_type": "code",
   "execution_count": 36,
   "metadata": {},
   "outputs": [
    {
     "name": "stdout",
     "output_type": "stream",
     "text": [
      "[228 131 133]\n",
      "[228. 131. 133.]\n"
     ]
    }
   ],
   "source": [
    "img = Image.open(\"HAM10000_images/ISIC_0024306.jpg\")\n",
    "img = np.array(img.resize((100,100)))\n",
    "print(img[0][0])\n",
    "print(images[0][0][0])"
   ]
  },
  {
   "cell_type": "code",
   "execution_count": 49,
   "metadata": {},
   "outputs": [],
   "source": [
    "# Make Label\n",
    "target = df[[\"dx\"]]\n",
    "target = pd.get_dummies(target, columns=[\"dx\"])\n",
    "y_train = target[test_size+val_size:].astype(\"float32\")\n",
    "y_val = target[test_size : test_size + val_size].astype(\"float32\")\n",
    "y_test = target[:test_size].astype(\"float32\")"
   ]
  },
  {
   "cell_type": "code",
   "execution_count": 53,
   "metadata": {},
   "outputs": [],
   "source": [
    "features = df[[\"age\", \"sex\", \"localization\"]]\n",
    "features = pd.get_dummies(features)\n",
    "features\n",
    "features_x_train = features[test_size + val_size :]\n",
    "features_x_val = features[test_size : test_size + val_size]\n",
    "features_x_test = features[:test_size]"
   ]
  },
  {
   "cell_type": "code",
   "execution_count": 54,
   "metadata": {},
   "outputs": [],
   "source": [
    "# Start of CNN Building\n",
    "input_shape = (100, 100, 3)\n",
    "num_classes = 7"
   ]
  },
  {
   "cell_type": "code",
   "execution_count": 65,
   "metadata": {},
   "outputs": [
    {
     "name": "stdout",
     "output_type": "stream",
     "text": [
      "Model: \"sequential_6\"\n",
      "_________________________________________________________________\n",
      " Layer (type)                Output Shape              Param #   \n",
      "=================================================================\n",
      " conv2d_18 (Conv2D)          (None, 100, 100, 32)      896       \n",
      "                                                                 \n",
      " conv2d_19 (Conv2D)          (None, 100, 100, 32)      9248      \n",
      "                                                                 \n",
      " max_pooling2d_9 (MaxPoolin  (None, 50, 50, 32)        0         \n",
      " g2D)                                                            \n",
      "                                                                 \n",
      " dropout_12 (Dropout)        (None, 50, 50, 32)        0         \n",
      "                                                                 \n",
      " conv2d_20 (Conv2D)          (None, 50, 50, 64)        18496     \n",
      "                                                                 \n",
      " conv2d_21 (Conv2D)          (None, 50, 50, 64)        36928     \n",
      "                                                                 \n",
      " max_pooling2d_10 (MaxPooli  (None, 25, 25, 64)        0         \n",
      " ng2D)                                                           \n",
      "                                                                 \n",
      " dropout_13 (Dropout)        (None, 25, 25, 64)        0         \n",
      "                                                                 \n",
      " conv2d_22 (Conv2D)          (None, 25, 25, 64)        36928     \n",
      "                                                                 \n",
      " conv2d_23 (Conv2D)          (None, 25, 25, 32)        18464     \n",
      "                                                                 \n",
      " max_pooling2d_11 (MaxPooli  (None, 12, 12, 32)        0         \n",
      " ng2D)                                                           \n",
      "                                                                 \n",
      " dropout_14 (Dropout)        (None, 12, 12, 32)        0         \n",
      "                                                                 \n",
      " flatten_3 (Flatten)         (None, 4608)              0         \n",
      "                                                                 \n",
      " dropout_15 (Dropout)        (None, 4608)              0         \n",
      "                                                                 \n",
      " dense_12 (Dense)            (None, 128)               589952    \n",
      "                                                                 \n",
      "=================================================================\n",
      "Total params: 710912 (2.71 MB)\n",
      "Trainable params: 710912 (2.71 MB)\n",
      "Non-trainable params: 0 (0.00 Byte)\n",
      "_________________________________________________________________\n"
     ]
    }
   ],
   "source": [
    "# Initialising the CNN\n",
    "model_cnn = Sequential()\n",
    "# Adding layers to the model\n",
    "model_cnn.add(layers.InputLayer(input_shape=input_shape))\n",
    "model_cnn.add(\n",
    "    Conv2D(\n",
    "        32,\n",
    "        kernel_size=(3, 3),\n",
    "        activation=\"relu\",\n",
    "        padding=\"same\",\n",
    "    )\n",
    ")\n",
    "\n",
    "model_cnn.add(Conv2D(32, kernel_size=(3, 3), activation=\"relu\", padding=\"Same\"))\n",
    "model_cnn.add(MaxPool2D(pool_size=(2, 2)))\n",
    "model_cnn.add(layers.Dropout(0.25))\n",
    "\n",
    "model_cnn.add(Conv2D(64, (3, 3), activation=\"relu\", padding=\"Same\"))\n",
    "model_cnn.add(Conv2D(64, (3, 3), activation=\"relu\", padding=\"Same\"))\n",
    "model_cnn.add(MaxPool2D(pool_size=(2, 2)))\n",
    "model_cnn.add(layers.Dropout(0.25))\n",
    "\n",
    "\n",
    "model_cnn.add(Conv2D(64, (3, 3), activation=\"relu\", padding=\"Same\"))\n",
    "model_cnn.add(Conv2D(32, (3, 3), activation=\"relu\", padding=\"Same\"))\n",
    "model_cnn.add(MaxPool2D(pool_size=(2, 2)))\n",
    "model_cnn.add(layers.Dropout(0.25))\n",
    "\n",
    "model_cnn.add(Flatten())\n",
    "# model.add(Dense(128, activation=\"relu\"))\n",
    "model_cnn.add(layers.Dropout(0.25))\n",
    "model_cnn.add(Dense(128))\n",
    "model_cnn.summary()"
   ]
  },
  {
   "cell_type": "code",
   "execution_count": 66,
   "metadata": {},
   "outputs": [],
   "source": [
    "# text = df[[\"age\", \"localization\", \"sex\"]]\n",
    "# text = pd.get_dummies(text, columns=[\"localization\", \"sex\"])\n",
    "# text_x_train = np.array(text[:6000])\n",
    "# text_x_test = np.array(text[6000:7600])\n",
    "# text_x_val = np.array(text[7600:])\n",
    "# text_y_train = np.array(target[:6000])\n",
    "# text_y_test = np.array(target[6000:7600])\n",
    "# text_y_val = np.array(target[7600:])\n",
    "# # print(text_x_train[:10])"
   ]
  },
  {
   "cell_type": "code",
   "execution_count": 67,
   "metadata": {},
   "outputs": [
    {
     "name": "stdout",
     "output_type": "stream",
     "text": [
      "Model: \"sequential_7\"\n",
      "_________________________________________________________________\n",
      " Layer (type)                Output Shape              Param #   \n",
      "=================================================================\n",
      " dense_13 (Dense)            (None, 200)               4000      \n",
      "                                                                 \n",
      " dense_14 (Dense)            (None, 128)               25728     \n",
      "                                                                 \n",
      "=================================================================\n",
      "Total params: 29728 (116.12 KB)\n",
      "Trainable params: 29728 (116.12 KB)\n",
      "Non-trainable params: 0 (0.00 Byte)\n",
      "_________________________________________________________________\n"
     ]
    }
   ],
   "source": [
    "model_txt = Sequential()\n",
    "model_txt.add(layers.InputLayer(input_shape=(19,)))\n",
    "model_txt.add(Dense(200, activation=\"linear\"))\n",
    "model_txt.add(Dense(128))\n",
    "model_txt.summary()"
   ]
  },
  {
   "cell_type": "code",
   "execution_count": 68,
   "metadata": {},
   "outputs": [],
   "source": [
    "\n",
    "# text_side = model_txt(text_x_train)"
   ]
  },
  {
   "cell_type": "code",
   "execution_count": 69,
   "metadata": {},
   "outputs": [],
   "source": [
    "# x_train = np.array([])\n",
    "# # for i in range (0, len(image_x_train)):\n",
    "# #     x_train[i] = text_train[i] + image_x_train[i]\n",
    "# #     x_train = np.array([np.array([text_x_train[i], image_x_train[i]])])\n",
    "\n",
    "# # x_train[0] = np.array([text_x_train[0], image_x_train[0]])\n",
    "\n",
    "# x_train = [[features_x_train[i], image_x_train[i]] for i in range(0, len(image_x_train))]\n",
    "# x_val = [[features_x_train[i], image_x_val[i]] for i in range(0, len(image_x_val))]\n",
    "# x_test = [[features_x_test[i], image_x_test[i]] for i in range(0, len(image_x_test))]"
   ]
  },
  {
   "cell_type": "code",
   "execution_count": 70,
   "metadata": {},
   "outputs": [],
   "source": [
    "# tmp = x_train[0][1]\n",
    "# print(len(x_train))\n",
    "# print(type(x_train[0][0]))\n",
    "# print(len(tmp))\n",
    "# print(tmp.shape)\n",
    "# print(type(tmp))\n",
    "# # print(tmp)"
   ]
  },
  {
   "cell_type": "code",
   "execution_count": 71,
   "metadata": {},
   "outputs": [
    {
     "name": "stdout",
     "output_type": "stream",
     "text": [
      "Model: \"model_3\"\n",
      "__________________________________________________________________________________________________\n",
      " Layer (type)                Output Shape                 Param #   Connected to                  \n",
      "==================================================================================================\n",
      " img (InputLayer)            [(None, 100, 100, 3)]        0         []                            \n",
      "                                                                                                  \n",
      " txt (InputLayer)            [(None, 19)]                 0         []                            \n",
      "                                                                                                  \n",
      " sequential_6 (Sequential)   (None, 128)                  710912    ['img[0][0]']                 \n",
      "                                                                                                  \n",
      " sequential_7 (Sequential)   (None, 128)                  29728     ['txt[0][0]']                 \n",
      "                                                                                                  \n",
      " concatenate_3 (Concatenate  (None, 256)                  0         ['sequential_6[0][0]',        \n",
      " )                                                                   'sequential_7[0][0]']        \n",
      "                                                                                                  \n",
      " dense_15 (Dense)            (None, 256)                  65792     ['concatenate_3[0][0]']       \n",
      "                                                                                                  \n",
      " class (Dense)               (None, 7)                    1799      ['dense_15[0][0]']            \n",
      "                                                                                                  \n",
      "==================================================================================================\n",
      "Total params: 808231 (3.08 MB)\n",
      "Trainable params: 808231 (3.08 MB)\n",
      "Non-trainable params: 0 (0.00 Byte)\n",
      "__________________________________________________________________________________________________\n"
     ]
    }
   ],
   "source": [
    "img_input = layers.Input(shape=input_shape, dtype=tf.int32, name=\"img\")\n",
    "txt_input = layers.Input(shape=(19,), dtype=tf.int32, name=\"txt\")\n",
    "image_side = model_cnn(img_input)\n",
    "text_side = model_txt(txt_input)\n",
    "\n",
    "merged = layers.Concatenate()([image_side, text_side])\n",
    "merged = layers.Dense(256, activation=\"relu\")(merged)\n",
    "output = layers.Dense(7, activation=\"softmax\", name=\"class\")(merged)\n",
    "model = models.Model([img_input, txt_input], output)\n",
    "model.summary()"
   ]
  },
  {
   "cell_type": "code",
   "execution_count": 72,
   "metadata": {},
   "outputs": [],
   "source": [
    "# Define the optimizer\n",
    "# optimizer = Adam(lr=0.001, beta_1=0.9, beta_2=0.999, epsilon=None, amsgrad=False)\n",
    "# Compile the model\n",
    "model.compile(\n",
    "    optimizer=tf.keras.optimizers.legacy.Adam(learning_rate=0.0005),\n",
    "    loss=\"categorical_crossentropy\",\n",
    "    metrics=[\"accuracy\"],\n",
    ")\n",
    "# Set a learning rate annealer\n",
    "learning_rate_reduction = ReduceLROnPlateau(\n",
    "    monitor=\"val_accuracy\", patience=3, verbose=1, factor=0.5, min_lr=0.00001\n",
    ")"
   ]
  },
  {
   "cell_type": "code",
   "execution_count": 73,
   "metadata": {},
   "outputs": [],
   "source": [
    "import gc\n",
    "epochs = 25\n",
    "batch_size = 100\n",
    "\n",
    "\n",
    "class garbageCollectCallback(tf.keras.callbacks.Callback):\n",
    "    def on_epoch_end(self, epoch, logs=None):\n",
    "        gc.collect()\n",
    "\n",
    "\n",
    "earlyStopping = tf.keras.callbacks.EarlyStopping(\n",
    "    monitor=\"val_accuracy\",\n",
    "    min_delta=0,\n",
    "    patience=3,\n",
    "    verbose=2,\n",
    "    mode=\"max\",\n",
    "    baseline=None,\n",
    "    restore_best_weights=True,\n",
    "    start_from_epoch=0,\n",
    ")\n",
    "\n",
    "history = model.fit(\n",
    "    [image_x_train, features_x_train],\n",
    "    y_train,\n",
    "    batch_size=batch_size,\n",
    "    epochs=epochs,\n",
    "    verbose=1,\n",
    "    steps_per_epoch=6000 // batch_size,\n",
    "    callbacks=[garbageCollectCallback(), earlyStopping],\n",
    "    validation_data=([image_x_val, features_x_val], y_val),\n",
    ")"
   ]
  },
  {
   "cell_type": "code",
   "execution_count": 195,
   "metadata": {},
   "outputs": [
    {
     "name": "stdout",
     "output_type": "stream",
     "text": [
      "(6000, 7)\n",
      "19\n"
     ]
    }
   ],
   "source": [
    "print(text_y_train.shape)\n",
    "print(len(x_train[0][0]))"
   ]
  },
  {
   "cell_type": "code",
   "execution_count": 141,
   "metadata": {},
   "outputs": [
    {
     "data": {
      "text/plain": [
       "19"
      ]
     },
     "execution_count": 141,
     "metadata": {},
     "output_type": "execute_result"
    }
   ],
   "source": [
    "len(x_train[1][0])"
   ]
  }
 ],
 "metadata": {
  "kernelspec": {
   "display_name": "base",
   "language": "python",
   "name": "python3"
  },
  "language_info": {
   "codemirror_mode": {
    "name": "ipython",
    "version": 3
   },
   "file_extension": ".py",
   "mimetype": "text/x-python",
   "name": "python",
   "nbconvert_exporter": "python",
   "pygments_lexer": "ipython3",
   "version": "3.11.5"
  }
 },
 "nbformat": 4,
 "nbformat_minor": 2
}

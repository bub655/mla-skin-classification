{
 "cells": [
  {
   "cell_type": "code",
   "execution_count": 2,
   "metadata": {},
   "outputs": [],
   "source": [
    "from glob import glob\n",
    "import os\n",
    "import pandas as pd\n",
    "import numpy as np\n",
    "from PIL import Image\n",
    "from sklearn.model_selection import train_test_split\n",
    "import tensorflow as tf"
   ]
  },
  {
   "cell_type": "code",
   "execution_count": 3,
   "metadata": {},
   "outputs": [],
   "source": [
    "df = []\n",
    "df = pd.read_csv(\"HAM10000_metadata.csv\")\n",
    "df = df.sort_values(by=\"image_id\")\n",
    "\n",
    "lesion_type_dict = {\n",
    "    \"nv\": \"Melanocytic nevi\",\n",
    "    \"mel\": \"Melanoma\",\n",
    "    \"bkl\": \"Benign keratosis-like lesions\",\n",
    "    \"akiec\": \"Actinic keratoses\",\n",
    "    \"vasc\": \"Vascular lesions\",\n",
    "    \"df\": \"Dermatofibroma\",\n",
    "}"
   ]
  },
  {
   "cell_type": "code",
   "execution_count": 32,
   "metadata": {},
   "outputs": [
    {
     "name": "stdout",
     "output_type": "stream",
     "text": [
      "(450, 650, 3)\n",
      "[221 131 131 ... 209 144 124]\n"
     ]
    }
   ],
   "source": [
    "image_dir = \"\"\n",
    "image_name = \"ISIC_0024306.jpg\"\n",
    "image_path = os.path.join(image_dir, image_name)\n",
    "Load_image = Image.open(image_path).convert(\"RGB\")\n",
    "\n",
    "nmpy_img = np.asarray(Load_image.resize((650, 450)))\n",
    "print(nmpy_img.shape)\n",
    "print(nmpy_img.flatten())"
   ]
  },
  {
   "cell_type": "code",
   "execution_count": 46,
   "metadata": {},
   "outputs": [
    {
     "name": "stdout",
     "output_type": "stream",
     "text": [
      "(450, 650, 3)\n",
      "<class 'tensorflow.python.framework.ops.EagerTensor'>\n",
      "(450, 650, 3)\n",
      "<class 'tensorflow.python.framework.ops.EagerTensor'>\n",
      "(450, 650, 3)\n",
      "<class 'tensorflow.python.framework.ops.EagerTensor'>\n",
      "(450, 650, 3)\n",
      "<class 'tensorflow.python.framework.ops.EagerTensor'>\n",
      "(450, 650, 3)\n",
      "<class 'tensorflow.python.framework.ops.EagerTensor'>\n",
      "(450, 650, 3)\n",
      "<class 'tensorflow.python.framework.ops.EagerTensor'>\n",
      "(450, 650, 3)\n",
      "<class 'tensorflow.python.framework.ops.EagerTensor'>\n",
      "(450, 650, 3)\n",
      "<class 'tensorflow.python.framework.ops.EagerTensor'>\n",
      "(450, 650, 3)\n",
      "<class 'tensorflow.python.framework.ops.EagerTensor'>\n",
      "(450, 650, 3)\n",
      "<class 'tensorflow.python.framework.ops.EagerTensor'>\n"
     ]
    }
   ],
   "source": [
    "image_files = []\n",
    "image_files = glob(\"HAM10000_images/*.jpg\")\n",
    "\n",
    "image_files = sorted(image_files)\n",
    "\n",
    "train_image = []\n",
    "for i in range(0, len(image_files)):\n",
    "    Load_image = Image.open(image_files[i]).convert(\"RGB\")\n",
    "    nmpy_img = Load_image.resize((650, 450))\n",
    "    nmpy_img = np.asarray(nmpy_img)\n",
    "    train_image.append(tf.convert_to_tensor(nmpy_img))\n",
    "    if(i < 10):\n",
    "        print(nmpy_img.shape)\n",
    "        print(type(train_image[i]))\n",
    "# train_image = []\n",
    "# for i in range(0, len(image_files)):\n",
    "#     Load_image = Image.open(image_files[i]).convert(\"RGB\")\n",
    "#     nmpy_img = Load_image.resize((650, 450))\n",
    "#     nmpy_img = np.asarray(nmpy_img)\n",
    "#     nmpy_img = nmpy_img.flatten()\n",
    "#     train_image.append(nmpy_img)\n",
    "#     if(i < 10):\n",
    "#         print(len(nmpy_img))\n",
    "#         print(len(train_image[i]))\n",
    "\n",
    "# df = df.assign(img=train_image)\n",
    "\n",
    "# df.to_csv(\"HAM10000_img.csv\", index=False)"
   ]
  },
  {
   "cell_type": "code",
   "execution_count": 47,
   "metadata": {},
   "outputs": [],
   "source": [
    "def getImages():\n",
    "  return train_image"
   ]
  },
  {
   "cell_type": "code",
   "execution_count": null,
   "metadata": {},
   "outputs": [],
   "source": [
    "train_image = []\n",
    "for i in range(0, len(image_files)):\n",
    "    image = tf.io.read_file(image_files[i])\n",
    "    decoded_image = tf.image.decode_image(image)\n",
    "    tensor_image = tf.convert_to_tensor(decoded_image)\n",
    "    train_image.append(tensor_image)\n",
    "    # df[\"img\"][i] = tensor_image\n",
    "    if i < 10:\n",
    "        print(tf.shape(tensor_image))"
   ]
  },
  {
   "cell_type": "code",
   "execution_count": null,
   "metadata": {},
   "outputs": [],
   "source": [
    "image_files = []\n",
    "image_files = glob(\"HAM10000_images/*.jpg\")\n",
    "\n",
    "image_files = sorted(image_files)\n",
    "\n",
    "df = df.assign(img=None)\n",
    "train_image = []\n",
    "for i in range(0, len(image_files)):\n",
    "    Load_image = Image.open(image_files[i]).convert(\"RGB\")\n",
    "    nmpy_img = Load_image.resize((650, 450))\n",
    "    nmpy_img = np.asarray(nmpy_img)\n",
    "    train_image.append(nmpy_img)\n",
    "    if i % 500 == 0:\n",
    "        print(\"index\", i)\n",
    "        print(train_image[i][0])\n"
   ]
  },
  {
   "cell_type": "code",
   "execution_count": null,
   "metadata": {},
   "outputs": [],
   "source": [
    "np.save(\"images\", np.asarray(train_image))"
   ]
  },
  {
   "cell_type": "code",
   "execution_count": null,
   "metadata": {},
   "outputs": [],
   "source": []
  }
 ],
 "metadata": {
  "kernelspec": {
   "display_name": "base",
   "language": "python",
   "name": "python3"
  },
  "language_info": {
   "codemirror_mode": {
    "name": "ipython",
    "version": 3
   },
   "file_extension": ".py",
   "mimetype": "text/x-python",
   "name": "python",
   "nbconvert_exporter": "python",
   "pygments_lexer": "ipython3",
   "version": "3.11.5"
  }
 },
 "nbformat": 4,
 "nbformat_minor": 2
}

{
 "cells": [
  {
   "cell_type": "code",
   "execution_count": 2,
   "metadata": {},
   "outputs": [],
   "source": [
    "from glob import glob\n",
    "import os\n",
    "import pandas as pd\n",
    "import numpy as np\n",
    "from PIL import Image\n",
    "from sklearn.model_selection import train_test_split\n"
   ]
  },
  {
   "cell_type": "markdown",
   "metadata": {},
   "source": []
  },
  {
   "cell_type": "code",
   "execution_count": 3,
   "metadata": {},
   "outputs": [],
   "source": [
    "df = []\n",
    "df = pd.read_csv(\"HAM10000_metadata.csv\")\n",
    "df = df.sort_values(by=\"image_id\")\n",
    "\n",
    "lesion_type_dict = {\n",
    "    \"nv\": \"Melanocytic nevi\",\n",
    "    \"mel\": \"Melanoma\",\n",
    "    \"bkl\": \"Benign keratosis-like lesions\",\n",
    "    \"akiec\": \"Actinic keratoses\",\n",
    "    \"vasc\": \"Vascular lesions\",\n",
    "    \"df\": \"Dermatofibroma\",\n",
    "}"
   ]
  },
  {
   "cell_type": "code",
   "execution_count": 12,
   "metadata": {},
   "outputs": [
    {
     "name": "stdout",
     "output_type": "stream",
     "text": [
      "[[[221 131 131]\n",
      "  [222 128 126]\n",
      "  [223 129 127]\n",
      "  ...\n",
      "  [229 134 138]\n",
      "  [226 136 138]\n",
      "  [230 135 139]]]\n"
     ]
    }
   ],
   "source": [
    "image_dir = \"HAM10000_images\"\n",
    "image_name = \"ISIC_0024306.jpg\"\n",
    "image_path = os.path.join(image_dir, image_name)\n",
    "Load_image = Image.open(image_path).convert(\"RGB\")\n",
    "\n",
    "nmpy_img = np.asarray(Load_image.resize((650, 450)))"
   ]
  },
  {
   "cell_type": "code",
   "execution_count": null,
   "metadata": {},
   "outputs": [],
   "source": [
    "image_files = []\n",
    "image_files = glob(\"HAM10000_images/*.jpg\")\n",
    "\n",
    "image_files = sorted(image_files)\n",
    "\n",
    "train_image = []\n",
    "for i in range(0, len(image_files)):\n",
    "    Load_image = Image.open(image_files[i]).convert(\"RGB\")\n",
    "    nmpy_img = Load_image.resize((650, 450))\n",
    "    train_image.append(np.asarray(nmpy_img))\n",
    "\n",
    "df = df.assign(images=train_image)\n",
    "\n",
    "df.to_csv(\"HAM10000_img.csv\", index=False)"
   ]
  }
 ],
 "metadata": {
  "kernelspec": {
   "display_name": "base",
   "language": "python",
   "name": "python3"
  },
  "language_info": {
   "codemirror_mode": {
    "name": "ipython",
    "version": 3
   },
   "file_extension": ".py",
   "mimetype": "text/x-python",
   "name": "python",
   "nbconvert_exporter": "python",
   "pygments_lexer": "ipython3",
   "version": "3.1.0"
  }
 },
 "nbformat": 4,
 "nbformat_minor": 2
}

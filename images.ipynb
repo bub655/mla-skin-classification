{
 "cells": [
  {
   "cell_type": "code",
   "execution_count": 1,
   "metadata": {},
   "outputs": [],
   "source": [
    "from glob import glob\n",
    "import os\n",
    "import pandas as pd\n",
    "import numpy as np\n",
    "from PIL import Image\n",
    "from sklearn.model_selection import train_test_split\n",
    "import tensorflow as tf"
   ]
  },
  {
   "cell_type": "code",
   "execution_count": 2,
   "metadata": {},
   "outputs": [],
   "source": [
    "df = []\n",
    "df = pd.read_csv(\"HAM10000_metadata.csv\")\n",
    "df = df.sort_values(by=\"image_id\")\n",
    "\n",
    "lesion_type_dict = {\n",
    "    \"nv\": \"Melanocytic nevi\",\n",
    "    \"mel\": \"Melanoma\",\n",
    "    \"bkl\": \"Benign keratosis-like lesions\",\n",
    "    \"akiec\": \"Actinic keratoses\",\n",
    "    \"vasc\": \"Vascular lesions\",\n",
    "    \"df\": \"Dermatofibroma\",\n",
    "}"
   ]
  },
  {
   "cell_type": "code",
   "execution_count": 5,
   "metadata": {},
   "outputs": [
    {
     "name": "stdout",
     "output_type": "stream",
     "text": [
      "(450, 650, 3)\n"
     ]
    },
    {
     "ename": "AttributeError",
     "evalue": "'Image' object has no attribute 'open'",
     "output_type": "error",
     "traceback": [
      "\u001b[0;31m---------------------------------------------------------------------------\u001b[0m",
      "\u001b[0;31mAttributeError\u001b[0m                            Traceback (most recent call last)",
      "Cell \u001b[0;32mIn[5], line 8\u001b[0m\n\u001b[1;32m      6\u001b[0m nmpy_img \u001b[38;5;241m=\u001b[39m np\u001b[38;5;241m.\u001b[39masarray(Load_image\u001b[38;5;241m.\u001b[39mresize((\u001b[38;5;241m650\u001b[39m, \u001b[38;5;241m450\u001b[39m)))\n\u001b[1;32m      7\u001b[0m \u001b[38;5;28mprint\u001b[39m(nmpy_img\u001b[38;5;241m.\u001b[39mshape)\n\u001b[0;32m----> 8\u001b[0m \u001b[38;5;28mprint\u001b[39m(Load_image\u001b[38;5;241m.\u001b[39mopen())\n",
      "\u001b[0;31mAttributeError\u001b[0m: 'Image' object has no attribute 'open'"
     ]
    }
   ],
   "source": [
    "image_dir = \"\"\n",
    "image_name = \"ISIC_0024306.jpg\"\n",
    "image_path = os.path.join(image_dir, image_name)\n",
    "Load_image = Image.open(image_path).convert(\"RGB\")\n",
    "\n",
    "nmpy_img = np.asarray(Load_image.resize((650, 450)))\n",
    "print(nmpy_img.shape)\n",
    "print(Load_image.show())"
   ]
  },
  {
   "cell_type": "code",
   "execution_count": null,
   "metadata": {},
   "outputs": [],
   "source": [
    "image_files = []\n",
    "image_files = glob(\"HAM10000_images/*.jpg\")\n",
    "\n",
    "image_files = sorted(image_files)\n",
    "\n",
    "df = df.assign(img=None)\n",
    "train_image = []\n",
    "for i in range(0, len(image_files)):\n",
    "    Load_image = Image.open(image_files[i]).convert(\"RGB\")\n",
    "    nmpy_img = Load_image.resize((650, 450))\n",
    "    nmpy_img = np.asarray(nmpy_img)\n",
    "    train_image.append(nmpy_img)\n"
   ]
  },
  {
   "cell_type": "code",
   "execution_count": null,
   "metadata": {},
   "outputs": [],
   "source": [
    "np.save(\"images\", np.asarray(train_image))"
   ]
  }
 ],
 "metadata": {
  "kernelspec": {
   "display_name": "base",
   "language": "python",
   "name": "python3"
  },
  "language_info": {
   "codemirror_mode": {
    "name": "ipython",
    "version": 3
   },
   "file_extension": ".py",
   "mimetype": "text/x-python",
   "name": "python",
   "nbconvert_exporter": "python",
   "pygments_lexer": "ipython3",
   "version": "3.11.5"
  }
 },
 "nbformat": 4,
 "nbformat_minor": 2
}
